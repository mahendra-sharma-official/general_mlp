{
 "cells": [
  {
   "cell_type": "code",
   "execution_count": 24,
   "id": "899b3d34",
   "metadata": {},
   "outputs": [],
   "source": [
    "from dataset import Dataset\n",
    "from act_los_functions import Relu, Linear, MSE_Loss\n",
    "from general_mlp import General_MLP"
   ]
  },
  {
   "cell_type": "code",
   "execution_count": 25,
   "id": "2968af40",
   "metadata": {},
   "outputs": [],
   "source": [
    "#path is realtive to this ipynb file\n",
    "training_dataset_filepath = \"../training_files/multiply.csv\"\n",
    "\n",
    "ds = Dataset(training_dataset_filepath, 2, 1)\n",
    "ds.normalizeX(0,1)\n",
    "ds.normalizeY(0,1)\n",
    "X_train, X_test, Y_train, Y_test = ds.split(0.6, transposed=True) #the data fed into the model has to be (n_features * n_samples)"
   ]
  },
  {
   "cell_type": "code",
   "execution_count": 26,
   "id": "e4f16cdb",
   "metadata": {},
   "outputs": [],
   "source": [
    "mlp = General_MLP([2, 10, 6, 4,  1], [Relu, Linear], MSE_Loss)"
   ]
  },
  {
   "cell_type": "code",
   "execution_count": null,
   "id": "e30c826c",
   "metadata": {},
   "outputs": [],
   "source": [
    "mlp.train(X_train, Y_train, 1000, 0.01, 200, 100)"
   ]
  }
 ],
 "metadata": {
  "kernelspec": {
   "display_name": ".venv",
   "language": "python",
   "name": "python3"
  },
  "language_info": {
   "codemirror_mode": {
    "name": "ipython",
    "version": 3
   },
   "file_extension": ".py",
   "mimetype": "text/x-python",
   "name": "python",
   "nbconvert_exporter": "python",
   "pygments_lexer": "ipython3",
   "version": "3.12.5"
  }
 },
 "nbformat": 4,
 "nbformat_minor": 5
}
