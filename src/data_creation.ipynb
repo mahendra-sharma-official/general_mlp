{
 "cells": [
  {
   "cell_type": "code",
   "execution_count": 1,
   "id": "351b7c47",
   "metadata": {},
   "outputs": [],
   "source": [
    "import numpy as np\n",
    "import pandas as pd"
   ]
  },
  {
   "cell_type": "code",
   "execution_count": 2,
   "id": "f6e105f2",
   "metadata": {},
   "outputs": [],
   "source": [
    "x = []\n",
    "y = []\n",
    "for i in range(1000):\n",
    "    x.append(np.random.randint(-100, 100))\n",
    "    y.append(np.random.randint(-100, 100))\n",
    "z = np.array(x)*np.array(y)\n",
    "df = pd.DataFrame(np.column_stack((x,y,z)))\n",
    "df.to_csv(\"data.csv\",header=None, index=False)"
   ]
  }
 ],
 "metadata": {
  "kernelspec": {
   "display_name": ".venv",
   "language": "python",
   "name": "python3"
  },
  "language_info": {
   "codemirror_mode": {
    "name": "ipython",
    "version": 3
   },
   "file_extension": ".py",
   "mimetype": "text/x-python",
   "name": "python",
   "nbconvert_exporter": "python",
   "pygments_lexer": "ipython3",
   "version": "3.12.5"
  }
 },
 "nbformat": 4,
 "nbformat_minor": 5
}
